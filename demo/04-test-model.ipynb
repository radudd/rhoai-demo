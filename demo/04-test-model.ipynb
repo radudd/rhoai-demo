{
 "cells": [
  {
   "cell_type": "code",
   "execution_count": 1,
   "id": "865fd10c-2eab-4459-9879-5510a0e67a3f",
   "metadata": {
    "tags": []
   },
   "outputs": [],
   "source": [
    "import requests\n",
    "from numpy import argmax"
   ]
  },
  {
   "cell_type": "code",
   "execution_count": 2,
   "id": "cea7e01a-7cb0-446d-ab81-ca7115407216",
   "metadata": {
    "tags": []
   },
   "outputs": [],
   "source": [
    "INFERENCE_ENDPOINT = \"https://diabetes-demo.apps.cluster-897j5.dynamic.redhatworkshops.io/v2/models/diabetes/infer\""
   ]
  },
  {
   "cell_type": "code",
   "execution_count": 19,
   "id": "e0667499-92c4-4da9-a7dd-8a7e0bea0e8d",
   "metadata": {
    "tags": []
   },
   "outputs": [
    {
     "name": "stdout",
     "output_type": "stream",
     "text": [
      "<Response [200]>\n"
     ]
    },
    {
     "data": {
      "text/plain": [
       "{'model_name': 'diabetes__isvc-be628d93e7',\n",
       " 'model_version': '1',\n",
       " 'outputs': [{'name': 'modelOutput',\n",
       "   'datatype': 'FP32',\n",
       "   'shape': [1, 2],\n",
       "   'data': [1.1098013, 3.0753086]}]}"
      ]
     },
     "execution_count": 19,
     "metadata": {},
     "output_type": "execute_result"
    }
   ],
   "source": [
    "sample = [3, 220, 70, 22, 220, 36.4, 0.408, 36]\n",
    "\n",
    "payload = {\n",
    "    \"inputs\": [\n",
    "        {\n",
    "            # The ONNX model requires this name\n",
    "            \"name\": \"modelInput\",\n",
    "            \"shape\": [1, 8],\n",
    "            \"datatype\": \"FP32\",\n",
    "            \"data\": sample\n",
    "        }\n",
    "    ]\n",
    "}\n",
    "\n",
    "response = requests.post(INFERENCE_ENDPOINT, json=payload)\n",
    "print (response)\n",
    "result = response.json()\n",
    "result"
   ]
  },
  {
   "cell_type": "code",
   "execution_count": 20,
   "id": "dedfe27e-fe08-4593-8733-eaac16e67175",
   "metadata": {
    "tags": []
   },
   "outputs": [
    {
     "name": "stdout",
     "output_type": "stream",
     "text": [
      "The sample was classified as \"Positive\".\n"
     ]
    }
   ],
   "source": [
    "labels = ['Negative', 'Positive']\n",
    "model_output = result['outputs'][0]['data']\n",
    "classification_result = labels[argmax(model_output)]\n",
    "\n",
    "print(f'The sample was classified as \"{classification_result}\".')"
   ]
  },
  {
   "cell_type": "code",
   "execution_count": null,
   "id": "78b4832d-af35-4e35-9faa-b203c8420610",
   "metadata": {},
   "outputs": [],
   "source": []
  }
 ],
 "metadata": {
  "kernelspec": {
   "display_name": "Python 3.9",
   "language": "python",
   "name": "python3"
  },
  "language_info": {
   "codemirror_mode": {
    "name": "ipython",
    "version": 3
   },
   "file_extension": ".py",
   "mimetype": "text/x-python",
   "name": "python",
   "nbconvert_exporter": "python",
   "pygments_lexer": "ipython3",
   "version": "3.9.18"
  }
 },
 "nbformat": 4,
 "nbformat_minor": 5
}
